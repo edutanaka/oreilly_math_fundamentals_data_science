{
 "cells": [
  {
   "cell_type": "markdown",
   "id": "bf5069ce-9aaa-4dc9-9ac2-ecb28d635301",
   "metadata": {},
   "source": [
    "# exercises"
   ]
  },
  {
   "cell_type": "code",
   "execution_count": 2,
   "id": "747a7228-ad39-48e7-a871-525c08da015b",
   "metadata": {},
   "outputs": [
    {
     "name": "stdout",
     "output_type": "stream",
     "text": [
      "Requirement already satisfied: sympy in /opt/conda/lib/python3.10/site-packages (1.10.1)\n",
      "Requirement already satisfied: mpmath>=0.19 in /opt/conda/lib/python3.10/site-packages (from sympy) (1.2.1)\n"
     ]
    }
   ],
   "source": [
    "!pip install sympy"
   ]
  },
  {
   "cell_type": "markdown",
   "id": "c49668e8-4726-45f6-a1dc-f7700e10e8dc",
   "metadata": {},
   "source": [
    "## 2."
   ]
  },
  {
   "cell_type": "code",
   "execution_count": 4,
   "id": "75d490a4-3511-4b3c-b5ba-0086da766a24",
   "metadata": {},
   "outputs": [
    {
     "data": {
      "text/plain": [
       "100.00000000000001"
      ]
     },
     "execution_count": 4,
     "metadata": {},
     "output_type": "execute_result"
    }
   ],
   "source": [
    "10**7 * 10**-5"
   ]
  },
  {
   "cell_type": "markdown",
   "id": "d2a174f1-a544-4a46-b90b-756f31c3a2a4",
   "metadata": {},
   "source": [
    "## 3."
   ]
  },
  {
   "cell_type": "code",
   "execution_count": 10,
   "id": "9a05ca40-c346-4e30-b384-369eae619081",
   "metadata": {},
   "outputs": [
    {
     "data": {
      "text/plain": [
       "9.0"
      ]
     },
     "execution_count": 10,
     "metadata": {},
     "output_type": "execute_result"
    }
   ],
   "source": [
    "81**(1/2)"
   ]
  },
  {
   "cell_type": "markdown",
   "id": "614b4669-a826-4956-914e-85652c7479ba",
   "metadata": {},
   "source": [
    "## 4."
   ]
  },
  {
   "cell_type": "code",
   "execution_count": 11,
   "id": "3de92ac3-4ac2-4583-bcf1-68834dcc99c4",
   "metadata": {},
   "outputs": [
    {
     "data": {
      "text/plain": [
       "125.0"
      ]
     },
     "execution_count": 11,
     "metadata": {},
     "output_type": "execute_result"
    }
   ],
   "source": [
    "25**(3/2)"
   ]
  },
  {
   "cell_type": "markdown",
   "id": "9c518299-cb88-4e95-accd-1359863b1541",
   "metadata": {},
   "source": [
    "## 5."
   ]
  },
  {
   "cell_type": "code",
   "execution_count": 29,
   "id": "d439ee15-b96c-4362-a2d2-f517c5f868e3",
   "metadata": {},
   "outputs": [
    {
     "data": {
      "text/plain": [
       "1161.4722313334678"
      ]
     },
     "execution_count": 29,
     "metadata": {},
     "output_type": "execute_result"
    }
   ],
   "source": [
    "from math import exp\n",
    "1000*((1+(0.05/12))**36)"
   ]
  },
  {
   "cell_type": "markdown",
   "id": "c1b3f3fa-62c0-4292-b4a7-5b1762ce2074",
   "metadata": {},
   "source": [
    "## 6."
   ]
  },
  {
   "cell_type": "code",
   "execution_count": 34,
   "id": "e0b0b5c8-36ef-4b29-aa74-1d9efd775554",
   "metadata": {},
   "outputs": [
    {
     "data": {
      "text/plain": [
       "1161.834242728283"
      ]
     },
     "execution_count": 34,
     "metadata": {},
     "output_type": "execute_result"
    }
   ],
   "source": [
    "1000*exp(0.05*3)"
   ]
  },
  {
   "cell_type": "markdown",
   "id": "2957827d-cadf-4ffa-a4c8-cb0f8ead39f1",
   "metadata": {},
   "source": [
    "## 7."
   ]
  },
  {
   "cell_type": "code",
   "execution_count": 35,
   "id": "b7a1e029-dbd2-4bfe-856b-bc65fbd7db23",
   "metadata": {},
   "outputs": [],
   "source": [
    "from sympy import *\n",
    "x = symbols('x')"
   ]
  },
  {
   "cell_type": "code",
   "execution_count": 37,
   "id": "85445cc0-39df-411b-b489-def4e9b20f76",
   "metadata": {},
   "outputs": [],
   "source": [
    "f = 3*x**2+1"
   ]
  },
  {
   "cell_type": "code",
   "execution_count": 41,
   "id": "92baad42-9453-4610-9522-efcb2af83e2f",
   "metadata": {},
   "outputs": [
    {
     "data": {
      "text/latex": [
       "$\\displaystyle 6 x$"
      ],
      "text/plain": [
       "6*x"
      ]
     },
     "execution_count": 41,
     "metadata": {},
     "output_type": "execute_result"
    }
   ],
   "source": [
    "dx_f = diff(f)\n",
    "dx_f"
   ]
  },
  {
   "cell_type": "markdown",
   "id": "b2934843-8936-43cb-9383-1ed5132a3682",
   "metadata": {},
   "source": [
    "## 8."
   ]
  },
  {
   "cell_type": "code",
   "execution_count": 43,
   "id": "a234d88b-88cd-4322-8e24-75646a96580f",
   "metadata": {},
   "outputs": [],
   "source": [
    "x = symbols('x')\n",
    "f = 3*x**2+1"
   ]
  },
  {
   "cell_type": "code",
   "execution_count": 45,
   "id": "716f4a7a-7a40-43b4-9a34-6beadc9c9c8b",
   "metadata": {},
   "outputs": [
    {
     "data": {
      "text/latex": [
       "$\\displaystyle 10$"
      ],
      "text/plain": [
       "10"
      ]
     },
     "execution_count": 45,
     "metadata": {},
     "output_type": "execute_result"
    }
   ],
   "source": [
    "integrate(f, (x,0,2))"
   ]
  },
  {
   "cell_type": "code",
   "execution_count": null,
   "id": "29da2df1-21fa-4671-ac07-56a6704cd299",
   "metadata": {},
   "outputs": [],
   "source": []
  }
 ],
 "metadata": {
  "kernelspec": {
   "display_name": "Python 3 (ipykernel)",
   "language": "python",
   "name": "python3"
  },
  "language_info": {
   "codemirror_mode": {
    "name": "ipython",
    "version": 3
   },
   "file_extension": ".py",
   "mimetype": "text/x-python",
   "name": "python",
   "nbconvert_exporter": "python",
   "pygments_lexer": "ipython3",
   "version": "3.10.6"
  }
 },
 "nbformat": 4,
 "nbformat_minor": 5
}
